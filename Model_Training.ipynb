{
 "cells": [
  {
   "cell_type": "code",
   "execution_count": null,
   "metadata": {
    "colab": {
     "base_uri": "https://localhost:8080/"
    },
    "id": "URszljNVkRtj",
    "outputId": "b67c39ef-72c9-4287-a97d-08112975812c"
   },
   "outputs": [],
   "source": [
    "pip install transformers datasets peft trl accelerate bitsandbytes packaging ninja sentencepiece"
   ]
  },
  {
   "cell_type": "code",
   "execution_count": null,
   "metadata": {
    "colab": {
     "base_uri": "https://localhost:8080/"
    },
    "id": "osnmxnzEnEm7",
    "outputId": "5c0670f1-3162-44c8-e6e4-2a8ba0f7f7e5"
   },
   "outputs": [],
   "source": [
    "pip install flash-attn --no-build-isolation"
   ]
  },
  {
   "cell_type": "code",
   "execution_count": null,
   "metadata": {
    "id": "8ZE9nYjlj3V0"
   },
   "outputs": [],
   "source": [
    "import random\n",
    "import gc\n",
    "import os\n",
    "import torch\n",
    "from datasets import load_dataset\n",
    "from transformers import (\n",
    "    AutoModelForCausalLM,\n",
    "    AutoTokenizer,\n",
    "    BitsAndBytesConfig,\n",
    "    HfArgumentParser,\n",
    "    TrainingArguments,\n",
    "    pipeline,\n",
    "    logging,\n",
    ")\n",
    "from peft import LoraConfig, PeftModel\n",
    "from peft import LoraConfig, prepare_model_for_kbit_training, get_peft_model\n",
    "from trl import SFTTrainer, DataCollatorForCompletionOnlyLM\n",
    "import numpy as np\n",
    "import pandas as pd\n",
    "import transformers\n",
    "import accelerate\n",
    "import bitsandbytes as bnb\n",
    "from datasets import load_dataset, concatenate_datasets\n",
    "import torch"
   ]
  },
  {
   "cell_type": "code",
   "execution_count": null,
   "metadata": {
    "id": "gq8GrEdDM_Fc"
   },
   "outputs": [],
   "source": [
    "dataset = load_dataset('Amod/mental_health_counseling_conversations', 'train')"
   ]
  },
  {
   "cell_type": "code",
   "execution_count": null,
   "metadata": {
    "colab": {
     "base_uri": "https://localhost:8080/"
    },
    "id": "cJe3t_PRj3V1",
    "outputId": "6692757a-1109-470f-db8f-154479cbeb75"
   },
   "outputs": [],
   "source": [
    "dataset"
   ]
  },
  {
   "cell_type": "code",
   "execution_count": null,
   "metadata": {
    "colab": {
     "base_uri": "https://localhost:8080/",
     "height": 105,
     "referenced_widgets": [
      "a197cd8277494a3894fb06326d933267",
      "981921ebf12b430e9f8059314c776ad0",
      "fa5ddd9a222640db86e30c9ed84c620b",
      "a7d4cb919f2546f7b80558f117f8b9e4",
      "4c91b645893e4bbfafdfc25c9b683e52",
      "8a3526c0e715400ca38e3ecf09874642",
      "1eaace1c94f54adbbc332155e22b06ac",
      "f18b39e4b7a5460290ea2f0beb5bf22a",
      "4b3ec861da484f8998263ddb79bb1679",
      "129f5eab2f734e1f81c2819201a8d74e",
      "eec75f2ec7f14a7291f049f84546fac4"
     ]
    },
    "id": "V1q5TitWj3V4",
    "outputId": "1314bd8b-976f-40fc-e18c-1998b77ea4c2"
   },
   "outputs": [],
   "source": [
    "nf4_config = BitsAndBytesConfig(\n",
    "   load_in_4bit=True,\n",
    "   bnb_4bit_quant_type=\"nf4\",\n",
    "   bnb_4bit_use_double_quant=True,\n",
    "   bnb_4bit_compute_dtype=torch.bfloat16\n",
    ")\n",
    "\n",
    "tokenizer= AutoTokenizer.from_pretrained('mistralai/Mistral-7B-Instruct-v0.2', token='your-hf-token-here')\n",
    "tokenizer.pad_token = tokenizer.eos_token\n",
    "tokenizer.padding_side = \"right\"\n",
    "\n",
    "model = transformers.AutoModelForCausalLM.from_pretrained(\n",
    "    \"mistralai/Mistral-7B-Instruct-v0.2\",\n",
    "    token='your-hf-token-here',\n",
    "    quantization_config=nf4_config,\n",
    "    use_flash_attention_2=True\n",
    ")\n"
   ]
  },
  {
   "cell_type": "code",
   "execution_count": null,
   "metadata": {
    "id": "KHHP8trFj3V4"
   },
   "outputs": [],
   "source": [
    "peft_config = LoraConfig(\n",
    "        lora_alpha=16,\n",
    "        lora_dropout=0.1,\n",
    "        r=64,\n",
    "        bias=\"none\",\n",
    "        task_type=\"CAUSAL_LM\",\n",
    ")"
   ]
  },
  {
   "cell_type": "code",
   "execution_count": null,
   "metadata": {
    "id": "0hRVzTtKQPJb"
   },
   "outputs": [],
   "source": [
    "model = prepare_model_for_kbit_training(model)\n",
    "model = get_peft_model(model, peft_config)"
   ]
  },
  {
   "cell_type": "code",
   "execution_count": null,
   "metadata": {
    "id": "WQwO8_6nj3V5"
   },
   "outputs": [],
   "source": [
    "args = TrainingArguments(\n",
    "    output_dir=\"outputs\",\n",
    "    logging_dir='./results',\n",
    "    num_train_epochs=3,\n",
    "    per_device_train_batch_size=4,\n",
    "    gradient_checkpointing=False,\n",
    "    optim=\"paged_adamw_8bit\",\n",
    "    logging_steps=10,\n",
    "    save_strategy=\"epoch\",\n",
    "    learning_rate=1e-4,\n",
    "    tf32=True,\n",
    "    max_grad_norm=0.3,\n",
    "    warmup_ratio=0.03,\n",
    "    lr_scheduler_type=\"constant\",\n",
    "    load_best_model_at_end=True,\n",
    "    evaluation_strategy='epoch'\n",
    ")\n"
   ]
  },
  {
   "cell_type": "code",
   "execution_count": null,
   "metadata": {
    "colab": {
     "base_uri": "https://localhost:8080/"
    },
    "id": "xOl4KN0Bj3V5",
    "outputId": "9a1d3701-750d-45e1-d324-01a319278842"
   },
   "outputs": [],
   "source": [
    "dataset"
   ]
  },
  {
   "cell_type": "code",
   "execution_count": null,
   "metadata": {
    "colab": {
     "base_uri": "https://localhost:8080/",
     "height": 54
    },
    "id": "yrExIZuLj3V5",
    "outputId": "28bb8218-0b63-4ac9-dc3c-db90bb3c24aa"
   },
   "outputs": [],
   "source": [
    "dataset['train']['Context'][0]"
   ]
  },
  {
   "cell_type": "code",
   "execution_count": null,
   "metadata": {
    "colab": {
     "base_uri": "https://localhost:8080/",
     "height": 126
    },
    "id": "ml6e-niLkOIR",
    "outputId": "7e1ead5c-9846-4c7f-93fe-20f5ec8d3faa"
   },
   "outputs": [],
   "source": [
    "dataset['train']['Response'][0]"
   ]
  },
  {
   "cell_type": "code",
   "execution_count": null,
   "metadata": {
    "id": "Si8yEs_Bz4zt"
   },
   "outputs": [],
   "source": [
    "system_message = \"\"\"You are a helpful and and truthful psychology and psychotherapy assistant. Your primary role is to provide empathetic, understanding, and non-judgmental responses to users seeking emotional and psychological support.\n",
    "                  Always respond with empathy and demonstrate active listening; try to focus on the user. Your responses should reflect that you understand the user's feelings and concerns. If a user expresses thoughts of self-harm, suicide, or harm to others, prioritize their safety.\n",
    "                  Encourage them to seek immediate professional help and provide emergency contact numbers when appropriate.  You are not a licensed medical professional. Do not diagnose or prescribe treatments.\n",
    "                  Instead, encourage users to consult with a licensed therapist or medical professional for specific advice. Avoid taking sides or expressing personal opinions. Your role is to provide a safe space for users to share and reflect.\n",
    "                  Remember, your goal is to provide a supportive and understanding environment for users to share their feelings and concerns. Always prioritize their well-being and safety.\"\"\"\n",
    "\n",
    "def format_mistral(entry):\n",
    "  formatted = f\"<s>[INST] <<SYS>>{system_message}<</SYS>>{entry['Context']} [/INST]  {entry['Response']}  </s>\"\n",
    "\n",
    "  return formatted"
   ]
  },
  {
   "cell_type": "code",
   "execution_count": null,
   "metadata": {
    "colab": {
     "base_uri": "https://localhost:8080/"
    },
    "id": "Vq0_xVP_1JZ2",
    "outputId": "1ebb12b0-86bd-42b4-dfdb-5b7933526c2e"
   },
   "outputs": [],
   "source": [
    "dataset['train'][0]"
   ]
  },
  {
   "cell_type": "code",
   "execution_count": null,
   "metadata": {
    "id": "5jb6Udj36PyW"
   },
   "outputs": [],
   "source": [
    "train = dataset['train'].select(range(3000))\n",
    "val = dataset['train'].select(range(3000, 3512))"
   ]
  },
  {
   "cell_type": "code",
   "execution_count": null,
   "metadata": {
    "colab": {
     "base_uri": "https://localhost:8080/"
    },
    "id": "-f8ABhkj6TEk",
    "outputId": "22780514-9db6-4764-cda0-587743213b5e"
   },
   "outputs": [],
   "source": [
    "train"
   ]
  },
  {
   "cell_type": "code",
   "execution_count": null,
   "metadata": {
    "colab": {
     "base_uri": "https://localhost:8080/"
    },
    "id": "GSKB0uDN1Cmc",
    "outputId": "2a050320-2011-4e10-85cd-44da8bf2bf0c"
   },
   "outputs": [],
   "source": [
    "print(format_mistral(dataset['train'][0]))"
   ]
  },
  {
   "cell_type": "code",
   "execution_count": null,
   "metadata": {
    "colab": {
     "base_uri": "https://localhost:8080/"
    },
    "id": "XCqONHrPj3V5",
    "outputId": "734be858-179a-48b9-96e1-309e6fe641a6"
   },
   "outputs": [],
   "source": [
    "max_seq_length = 2048\n",
    "\n",
    "trainer = SFTTrainer(\n",
    "    model=model,\n",
    "    train_dataset=train,\n",
    "    eval_dataset=val,\n",
    "    peft_config=peft_config,\n",
    "    max_seq_length=max_seq_length,\n",
    "    tokenizer=tokenizer,\n",
    "    packing=True,\n",
    "    formatting_func=format_mistral,\n",
    "    args=args,\n",
    ")\n"
   ]
  },
  {
   "cell_type": "code",
   "execution_count": null,
   "metadata": {
    "id": "QmWIvE2m-fXl"
   },
   "outputs": [],
   "source": [
    "gc.collect()\n",
    "torch.cuda.empty_cache()"
   ]
  },
  {
   "cell_type": "code",
   "execution_count": null,
   "metadata": {
    "colab": {
     "base_uri": "https://localhost:8080/",
     "height": 333
    },
    "id": "GyrR18FXj3V6",
    "outputId": "fd0d2790-6668-4137-8628-24f8e2e574d1"
   },
   "outputs": [],
   "source": [
    "trainer.train()\n",
    "\n",
    "trainer.save_model()\n"
   ]
  }
 ],
 "metadata": {
  "accelerator": "GPU",
  "colab": {
   "gpuType": "A100",
   "machine_shape": "hm",
   "provenance": []
  },
  "kernelspec": {
   "display_name": "Python 3 (ipykernel)",
   "language": "python",
   "name": "python3"
  },
  "language_info": {
   "codemirror_mode": {
    "name": "ipython",
    "version": 3
   },
   "file_extension": ".py",
   "mimetype": "text/x-python",
   "name": "python",
   "nbconvert_exporter": "python",
   "pygments_lexer": "ipython3",
   "version": "3.12.4"
  }
 },
 "nbformat": 4,
 "nbformat_minor": 4
}
